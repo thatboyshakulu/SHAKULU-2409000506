{
  "nbformat": 4,
  "nbformat_minor": 0,
  "metadata": {
    "colab": {
      "provenance": []
    },
    "kernelspec": {
      "name": "python3",
      "display_name": "Python 3"
    },
    "language_info": {
      "name": "python"
    }
  },
  "cells": [
    {
      "cell_type": "code",
      "execution_count": 6,
      "metadata": {
        "colab": {
          "base_uri": "https://localhost:8080/"
        },
        "id": "eYl93Yqk7wIy",
        "outputId": "19fddda8-0745-4467-addb-adadd6b3085c"
      },
      "outputs": [
        {
          "output_type": "stream",
          "name": "stdout",
          "text": [
            "Similarity: 0.50\n",
            "Common words: {'History', 'systematic', 'of', 'study', 'is', 'the'}\n"
          ]
        }
      ],
      "source": [
        "def jaccard_similarity(file1, file2):\n",
        "  #Split texts into sets of words\n",
        "  set1 = set(file1.split())\n",
        "  set2 = set(file2.split())\n",
        "#The jaccard_similarity function now both the similarity score and the set of common words.\n",
        "\n",
        "#The intersection variable contains the words that appear in both text1 and text2.\n",
        "\n",
        "# The common_words set is printed alongside the similarity score.\n",
        "\n",
        "  # Find intersection and union\n",
        "  intersection = set1.intersection(set2)\n",
        "  union = set1.union(set2)\n",
        "\n",
        "  #Calculate Jaccard similarity\n",
        "  similarity = len(intersection) / len(union)\n",
        "\n",
        "  # Return similarity intersection words\n",
        "  return similarity, intersection\n",
        "\n",
        "# Input texts\n",
        "file1 = \"History is the systematic study of the past.\"\n",
        "file2 = \"History is the systematic study of the past this is just for practice.\"\n",
        "\n",
        "# Calculate similarity and get common words\n",
        "similarity, common_words = jaccard_similarity(file1, file2)\n",
        "\n",
        "# Print results 0.29\n",
        "print(f\"Similarity: {similarity:.2f}\")\n",
        "print(f\"Common words: {common_words}\")\n",
        "\n",
        "\n"
      ]
    }
  ]
}